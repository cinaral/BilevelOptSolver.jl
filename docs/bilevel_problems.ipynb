{
 "cells": [
  {
   "cell_type": "markdown",
   "metadata": {},
   "source": [
    "# Problem"
   ]
  },
  {
   "cell_type": "markdown",
   "metadata": {},
   "source": [
    "Assume $F$, $f$, $G$, $g$ are continuous and twice differentiable:\n",
    "$$\n",
    "\\begin{align*}\n",
    "F\\colon X \\times Y &\\rightarrow \\mathbb{R} \\\\\n",
    "f\\colon X \\times Y  &\\rightarrow \\mathbb{R} \\\\\n",
    "G\\colon X \\times Y &\\rightarrow \\mathbb{R}^{m_1} \\\\\n",
    "g\\colon X \\times Y  &\\rightarrow \\mathbb{R}^{m_2}\n",
    "\\end{align*}\n",
    "$$\n",
    "\n",
    "e.g. $X=\\mathbb{R}^{n_1}$ and $Y=\\in\\mathbb{R}^{n_2}$\n",
    "We define the bilevel problem for upper-level variables $x\\in X$ and lower-level variables $y\\in Y$ (also known as *standard* optimistic bilevel programming problem, in contrast to the *original* optimistic bilevel programming problem):\n",
    "$$\n",
    "\\begin{equation}\n",
    "\t\\begin{alignat*}{5}\n",
    "\t\t&\\underset{x, y}{\\min}\\quad &&F(x, y) \\\\\n",
    "\t\t&\\;\\text{s.t.}\\quad\\quad&&x\\in X\\\\\n",
    "\t\t& &&G(x, y) \\geq 0 \\\\\n",
    "\t\t& &&y \\in S(x) \\colonequals \\left\\{\n",
    "\t\t\\begin{aligned}\n",
    "\t\t\ty \\colon y \\in\\; &\\underset{v}{\\argmin} &&f(x, v)  \\\\\n",
    "\t\t\t&\\quad\\text{s.t.}\\quad\\quad &&y\\in Y\\\\\n",
    "\t\t\t& &&g(x, v) \\geq 0 \n",
    "\t\t\\end{aligned}\\right\\}\n",
    "\t\\end{alignat*}\n",
    "\\tag{$\\mathrm{BOP}$}\n",
    "\\end{equation}\n",
    "$$\n",
    "The (in)equalities are in the element-wise sense (RHS zeros are vectors).\n",
    "\n",
    "<!--Let $x = \\begin{bmatrix}x_1, x_2\\end{bmatrix} \\in \\mathbb{R}^n$ and $x_i\\in \\mathbb{R}^{n_i}$ for $i\\in\\{1, 2\\}$ ($n = n_1 + n_2$). \n",
    "The bilevel problem is defined as:\n",
    "$$\n",
    "\\begin{alignat*}{3}\n",
    "&\\underset{x\\in\\mathbb{R}^n}{\\min}\\quad &&f_1(x) \\\\\n",
    "&\\;\\text{s.t.} &&g_1(x) &&\\geq 0 \\\\\n",
    "& && &x&\\in S(x_1) \\colonequals \\left\\{\\begin{aligned}\n",
    "x \\in \\mathbb{R}^n \\colon x_2 \\in\\; &\\underset{\\hat{x}_2\\in\\mathbb{R}^{n_2}}{\\argmin}&& f_2(x_1, \\hat{x}_2)  \\\\\n",
    "\t\t\t&\\quad\\text{s.t.} &&g_2(x_1, \\hat{x}_2) \\geq 0 \n",
    "\\end{aligned}\\right\\}\n",
    "\\end{alignat*}-->\n",
    "<!--$$-->"
   ]
  },
  {
   "cell_type": "markdown",
   "metadata": {},
   "source": [
    "1. $S(x)$ is a point-to-set mapping (correspondence) called **rational reaction set**.\n",
    "2. $G_i(x, y) \\geq 0$ that explicitly depend on $y$ called **coupling constraints** for $i\\in\\{1,\\dots,m_1\\}$.\n",
    "3. $x_i$  that appear explicitly in $g(x, \\hat{y}) \\geq 0 $ are called **linking variables** for $i\\in\\{1,\\dots,n_1\\}$.\n",
    "4. Shared constraint set: $\\Omega \\colonequals \\left\\{(x, y): G(x, y) \\geq 0, g(x, y) \\geq 0\\right\\}$\n",
    "5. Bilevel feasible set (inducible region): $\\mathcal{F} \\colonequals \\left\\{(x, y): (x, y) \\in \\Omega, y \\in S(x) \\right\\}$\n",
    "6. Optimal-value-function formulation:\n",
    "\n",
    "$$\n",
    "\\begin{equation}\n",
    "\t\\begin{alignat*}{5}\n",
    "\t\t&\\underset{x, y}{\\min}\\quad &&F(x, y) \\\\\n",
    "\t\t&\\;\\text{s.t.}\\quad\\quad&&x\\in X, y\\in Y\\\\\n",
    "\t\t& &&G(x, y) \\geq 0 \\\\\n",
    "\t\t& &&f(x, y) \\leq  \\phi(x) \\colonequals \\left\\{\\underset{v}{\\min}\\quad f(x, v) \\colon v \\in Y,\\;g(x, v) \\geq 0 \\right\\}\n",
    "\t\\end{alignat*}\n",
    "\\tag{$\\mathrm{BOP}$}\n",
    "\\end{equation}\n",
    "$$\n",
    "\n",
    "1. The $y$ in \"$\\underset{x, y}{\\min}$\" implies this is the optimistic bilevel problem, i.e. the leader controls $y\\in S(x)$. \n",
    "\t- Pessimistic bilevel problem with coupling constraints:    $\\quad \\underset{x}{\\min}\\quad F(x, y) \\colon G(x, y) \\geq 0 \\text{ for all } y\\in S(x)$\n",
    "\t- Pessimistic bilevel problem without coupling constraints:    $\\quad \\underset{x}{\\min}\\quad \\underset{y}{\\max} \\quad F(x, y) \\colon G(x) \\geq 0$\n",
    "\n",
    "<!--$$\n",
    "\\begin{alignat*}{5}\n",
    "&\\underset{x, y}{\\min}\\quad &&F(x, y) \\\\\n",
    "\n",
    "&\\quad\\text{s.t.} &&G(x, y) &&\\geq 0 \\\\\n",
    "\n",
    "& && f(x,y)&&\\leq \\phi(x) \\colonequals \\left\\{\\underset{\\hat{y}\\in\\mathbb{R}^{n_2}}{\\min} f(x, \\hat{y}) \\colon g(x, \\hat{y}) \\geq 0 \\right\\}\n",
    "\\end{alignat*}\n",
    "$$\n",
    "1. High-point relaxation:\n",
    "$$\n",
    "\\begin{alignat*}{5}\n",
    "&\\underset{x, y}{\\min}\\quad &&F(x, y) \\\\\n",
    "\n",
    "&\\quad\\text{s.t.} &&G(x, y) &&\\geq 0 \\\\\n",
    "\n",
    "& && g(x, y) &&\\geq 0\n",
    "\\end{alignat*}\n",
    "$$-->"
   ]
  },
  {
   "cell_type": "markdown",
   "metadata": {},
   "source": [
    "# Solution"
   ]
  },
  {
   "cell_type": "markdown",
   "metadata": {},
   "source": [
    "Let $R(x) \\supseteq S(x)$ under appropriate constraint qualification (Slater’s constraint qualification in the convex case), consider $g(x, y) \\in \\mathbb{R}^{m_2}$:\n",
    "\n",
    "$$\n",
    "\\begin{alignat*}{2}\n",
    "R(x) \\colonequals \\left\\{\\begin{aligned}\n",
    "\ty\\in\\mathbb{R}^{n_2},  \\lambda \\in \\mathbb{R}^{m_2}\\colon &&\\nabla_y f(x, y) - \\left(\\nabla_y g(x, y)\\right)^\\intercal \\lambda &= 0  \\\\\n",
    "\n",
    "\t&&g(x, y) &\\geq 0  \\\\ \n",
    "\n",
    "\t&&\\lambda &\\geq 0 \\\\\n",
    "\n",
    "\t&&g(x, y)^\\intercal \\lambda &= 0  \n",
    "\t\\end{aligned}\\right\\}\n",
    "\\end{alignat*}\n",
    "$$\n"
   ]
  },
  {
   "cell_type": "markdown",
   "metadata": {},
   "source": [
    "Let $R(x) = \\underset{i \\in \\{1, \\dots, 2^{m_2}\\}}{\\cup} R_i(x)$ where:\n",
    "\n",
    "$$\n",
    "\\begin{alignat*}{2}\n",
    "R_i(x) \\colonequals \\left\\{\\begin{aligned}\n",
    "\ty\\in\\mathbb{R}^{n_2},  \\lambda \\in \\mathbb{R}^{m_2}\\colon &&\\nabla_y f(x, y) - \\left(\\nabla_y g(x, y)\\right)^\\intercal \\lambda &= 0  \\\\\n",
    "\n",
    "\t&&g_j(x, y) \\geq 0, \\quad \\lambda_j = 0,\\quad j &\\in \\mathbb{I}_i^- \\quad\\text{(inactive)}\\\\ \n",
    "\n",
    "\t&&g_j(x, y) = 0, \\quad \\lambda_j \\geq 0,\\quad j &\\in \\mathbb{I}_i^+ \\quad\\text{(active)}\\\\\n",
    "\n",
    "\t\\end{aligned}\\right\\}\n",
    "\\end{alignat*}\n",
    "$$\n",
    "\n",
    "For all $i, j \\in \\{1, \\dots, 2^{m_2}\\}$:\n",
    "1. $\\mathbb{I}_i^+ \\cup \\mathbb{I}_i^- = \\{1, \\dots, m_2\\}$ \n",
    "2. $\\mathbb{I}_i^+ \\cap \\mathbb{I}_i^- = \\emptyset$,\n",
    "3. If $i\\neq j$, then $\\mathbb{I}_i^+ \\neq \\mathbb{I}_j^+$, or $\\mathbb{I}_i^- \\neq \\mathbb{I}_j^-$"
   ]
  },
  {
   "cell_type": "markdown",
   "metadata": {},
   "source": [
    "**Theorem:** $(x^*,y^*)$ is a local optimum of $\\mathrm{BOP}$ if and only if $(x^*,y^*)$ is a local optimium of $\\mathrm{BOP}_i$ for all $i\\colon y^* \\in R_i(x^*)$.\n",
    "$$\n",
    "\\begin{equation}\n",
    "\\begin{alignat*}{5}\n",
    "&\\underset{x\\in\\mathbb{R}^{n_1}, y}{\\min}\\quad &&F(x, y) \\\\\n",
    "\n",
    "&\\quad\\text{s.t.} &&G(x, y) &&\\geq 0 \\\\\n",
    "\n",
    "& && &y&\\in R_i(x) \n",
    "\\end{alignat*}\n",
    "\\tag{$\\mathrm{BOP}_i$}\n",
    "\\end{equation}\n",
    "$$\n",
    "\n",
    "**Remark:** This is more strict than the high-point relaxation."
   ]
  },
  {
   "cell_type": "markdown",
   "metadata": {},
   "source": [
    "# Procedure\n"
   ]
  },
  {
   "cell_type": "markdown",
   "metadata": {},
   "source": [
    "- Symbolics from user provided F, f, G, g to get the derivatives\n",
    "- Initialize $y = R(x)$ (from arbitrary x) (use IPOPT, but should be common interface) (just need to encode low-level)\n",
    "- while true:\n",
    "\t1.  construct $R_i(x)$ sets and find all $i$: $y \\in R_i(x)$ \n",
    "\t2.  check if $(x, y)$ solves $\\mathrm{BOP}_i$ for all such $i$\n",
    "\t\t-  solve $A\\gamma = 0$, $\\gamma \\geq 0$ * (use an LP solver -- HiGHs, but common interface, just need the gradient of the lagrangians)\n",
    "\t\t-  check that it attains a minimum (optional)\n",
    "\t3.  if yes, done. otherwise  move to violating $i$ and go to back to 1\n",
    "\n",
    "<!--\\* Let $z \\colonequals (x, y)$, we solve for $\\gamma \\colonequals (\\Lambda, \\lambda)$ that satisfies:\n",
    "$$\\begin{alignat*}{2}\n",
    "&&\\nabla_z F(z)  - \\left(\\nabla_z G(z)\\right)^\\intercal \\Lambda - \\left(\\nabla_z g(z)\\right)^\\intercal \\lambda &= 0  \\\\\n",
    "\t\t\n",
    "&&G(z) \\geq 0 \\perp \\Lambda &\\geq 0 \\\\ \n",
    "\n",
    "&&g(z) \\geq 0 \\perp \\lambda &\\geq 0 \\\\ \n",
    "\n",
    "\\end{alignat*}\n",
    "$$\n",
    "\n",
    "(Question) Why not this? The other one looks like high-point relaxation.\n",
    "$$\\begin{alignat*}{2}\n",
    "&&\\nabla_z F(z)  - \\left(\\nabla_z G(z)\\right)^\\intercal \\Lambda  &= 0  \\\\\n",
    "&&\\nabla_y f(z) - \\left(\\nabla_y g(z)\\right)^\\intercal \\lambda &= 0 \\\\\n",
    "\n",
    "&&G(z) \\geq 0 \\perp \\Lambda &\\geq 0 \\\\ \n",
    "\n",
    "&&g(z) \\geq 0 \\perp \\lambda &\\geq 0 \\\\ \n",
    "\n",
    "\\end{alignat*}\n",
    "$$-->"
   ]
  },
  {
   "cell_type": "markdown",
   "metadata": {},
   "source": [
    "(Question) Is interfacing with C packages trivial? I skip if I don't see an example"
   ]
  },
  {
   "cell_type": "markdown",
   "metadata": {},
   "source": [
    "1. LP solver  [options](https://plato.asu.edu/ftp/lpfeas.html):\n",
    "\t- COPT (fastest?) (closed-source w/ infinite trial for academics)\n",
    "\t- HiGHS * (open-source)\n",
    "\t- PDLP\n",
    "\t- KNITRO \n",
    "\t- CPLEX\n",
    "\t- GLPK\n",
    "\t\n",
    "2. NLP solver [options](https://plato.asu.edu/ftp/ampl-nlp.html):\n",
    "\t- COPT\n",
    "\t- KNITRO\n",
    "\t- IPOPT * (open-source)\n",
    "\t- WORHP "
   ]
  },
  {
   "cell_type": "markdown",
   "metadata": {},
   "source": [
    "with some abuse of notation (to be fixed later...)\n",
    "\n",
    "need to solve something like \n",
    "\n",
    "$$\n",
    "\\begin{equation}\n",
    "\\begin{alignat*}{5}\n",
    "&\\underset{x\\in\\mathbb{R}^{n_1}, y\\in\\mathbb{R}^{n_2}}{\\min}\\quad &&F(x, y) \\\\\n",
    "\n",
    "&\\quad\\text{s.t.} &&G(x, y) &&\\geq 0 \\\\\n",
    "\n",
    "& &&R_i(x, y) &&\\geq 0 \\\\\n",
    "\\end{alignat*}\n",
    "\\tag{$\\mathrm{BOP}_i$}\n",
    "\\end{equation}\n",
    "$$"
   ]
  },
  {
   "cell_type": "markdown",
   "metadata": {},
   "source": [
    "# Test Problems\n",
    "# Simple 1\n",
    "\n",
    "$$\n",
    "\\begin{alignat*}{3}\n",
    "&\\underset{x, y}{\\min}\\quad && &x + y& \\\\\n",
    "&\\text{s.t.} && &-x - 2y&\\geq -10 \\\\\n",
    "& && &2x - y&\\geq 0 \\\\\n",
    "& && &-x + 2y &\\geq 0 \\\\\n",
    "& && &x &\\geq 0 \\\\\n",
    "& && &y&\\in \\underset{\\hat{y}}{\\argmin} \\left\\{\\hat{y}\\colon x + \\hat{y} - 3 \\geq 0\\right\\}\n",
    "%&\\left\\{\\underset{\\hat{y}\\in\\mathbb{R}^{n_2}}{\\min} f(x, \\hat{y}) \\colon g(x, \\hat{y}) \\geq 0 \\right\\}\n",
    "\\end{alignat*}\n",
    "$$"
   ]
  },
  {
   "cell_type": "markdown",
   "metadata": {},
   "source": [
    "We need to initialize by solving the lower-level problem, which is just a regular NLP. IPOPT solves:\n",
    "$$\n",
    "\\begin{alignat*}{4}\n",
    "&\\underset{y}{\\min}\\quad && &f(y)& \\\\\n",
    "&\\text{s.t.} && &g_L &\\leq g(y) &\\leq g_U \\\\\n",
    "& && &y_L &\\leq\\quad y &\\leq y_U \\\\\n",
    "\\end{alignat*}\n",
    "$$\n",
    "and it requires $f, g, \\nabla_y f, \\nabla_y g, \\nabla_y^2 (f + λ^\\intercal g)$.\n",
    "\n",
    "In this case, we encode it as \n",
    "- $f(y) = y$\n",
    "- $g(y) = x + y - 3$\n",
    "- $g_L = 0$ \n",
    "- $g_U = \\infty$\n",
    "- $y_L = -\\infty$ \n",
    "- $y_U = \\infty$\n",
    "\n",
    "For initial guess $x=0$, we find $y=3$"
   ]
  },
  {
   "cell_type": "code",
   "execution_count": 9,
   "metadata": {},
   "outputs": [
    {
     "name": "stderr",
     "output_type": "stream",
     "text": [
      "┌ Info: [3.000000080909091]\n",
      "└ @ Main c:\\home\\projects\\BilevelSolver.jl\\docs\\jl_notebook_cell_df34fa98e69747e1a8f8a730347b8e2f_X23sZmlsZQ==.jl:15\n"
     ]
    }
   ],
   "source": [
    "using BilevelSolver\n",
    "\n",
    "x = 0\n",
    "n = 1\n",
    "m = 1\n",
    "f(y) = y[1]\n",
    "g(y) = [x + y[1] .- 3;]\n",
    "y_L = [-Inf]\n",
    "y_U = [Inf]\n",
    "g_L = [0.0]\n",
    "g_U = [Inf]\n",
    "\n",
    "ipopt_solver = BilevelSolver.setup_ipopt(n, m, f, g, y_L, y_U, g_L, g_U)\n",
    "sol = ipopt_solver.solve()\n",
    "@info sol.x"
   ]
  },
  {
   "cell_type": "markdown",
   "metadata": {},
   "source": [
    "# References\n",
    "1. [Dempe (2020), Bilevel Optimization](https://doi.org/10.1007/978-3-030-52119-6)\n",
    "2. [Schmidt (2023), A Gentle and Incomplete Introduction to Bilevel Optimization](https://optimization-online.org/2021/06/8450/)"
   ]
  }
 ],
 "metadata": {
  "kernelspec": {
   "display_name": "Julia 1.11.2",
   "language": "julia",
   "name": "julia-1.11"
  },
  "language_info": {
   "file_extension": ".jl",
   "mimetype": "application/julia",
   "name": "julia",
   "version": "1.11.2"
  }
 },
 "nbformat": 4,
 "nbformat_minor": 2
}
